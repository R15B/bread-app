{
 "cells": [
  {
   "cell_type": "code",
   "execution_count": 1,
   "metadata": {},
   "outputs": [
    {
     "data": {
      "application/vnd.jupyter.widget-view+json": {
       "model_id": "ce457873e6ab48668ce6bd4cfda975b9",
       "version_major": 2,
       "version_minor": 0
      },
      "text/plain": [
       "VBox(children=(HTML(value='<h3>Adjust the rectangle</h3>'), IntSlider(value=12, continuous_update=False, descr…"
      ]
     },
     "metadata": {},
     "output_type": "display_data"
    },
    {
     "data": {
      "image/png": "[encoded data removed]",
      "text/plain": [
       "<Figure size 500x500 with 1 Axes>"
      ]
     },
     "metadata": {},
     "output_type": "display_data"
    }
   ],
   "source": [
    "# square_slider.ipynb\n",
    "\n",
    "import ipywidgets as widgets\n",
    "import matplotlib.pyplot as plt\n",
    "from IPython.display import display, clear_output\n",
    "\n",
    "# Widgets\n",
    "width_slider = widgets.IntSlider(\n",
    "    value=5,\n",
    "    min=1,\n",
    "    max=20,\n",
    "    step=1,\n",
    "    description='Width:',\n",
    "    continuous_update=False,\n",
    "    style={'description_width': 'initial'}\n",
    ")\n",
    "\n",
    "height_slider = widgets.IntSlider(\n",
    "    value=5,\n",
    "    min=1,\n",
    "    max=20,\n",
    "    step=1,\n",
    "    description='Height:',\n",
    "    continuous_update=False,\n",
    "    style={'description_width': 'initial'}\n",
    ")\n",
    "\n",
    "color_dropdown = widgets.Dropdown(\n",
    "    options=['blue', 'red', 'green', 'orange', 'purple', 'black', 'pink'],\n",
    "    value='blue',\n",
    "    description='Color:',\n",
    "    style={'description_width': 'initial'}\n",
    ")\n",
    "\n",
    "# Button to refresh\n",
    "refresh_button = widgets.Button(\n",
    "    description='Refresh Plot',\n",
    "    button_style='info'\n",
    ")\n",
    "\n",
    "def draw_rectangle(width, height, color='blue'):\n",
    "    \"\"\"Helper function to draw a rectangle of given width, height, and color.\"\"\"\n",
    "    plt.figure(figsize=(5, 5))\n",
    "    x_coords = [0, width, width, 0, 0]\n",
    "    y_coords = [0, 0, height, height, 0]\n",
    "    plt.plot(x_coords, y_coords, color=color, linewidth=2)\n",
    "    plt.xlim(0, 30)\n",
    "    plt.ylim(0, 30)\n",
    "    plt.gca().set_aspect('equal', adjustable='box')\n",
    "    plt.title(f\"Rectangle: {width} x {height}, Color: {color}\")\n",
    "    plt.show()\n",
    "\n",
    "def update_plot(_):\n",
    "    \"\"\"Update the plot when a widget value changes.\"\"\"\n",
    "    clear_output(wait=True)\n",
    "    display(ui_box)\n",
    "    draw_rectangle(width_slider.value, height_slider.value, color=color_dropdown.value)\n",
    "\n",
    "# Box up the widgets in a vertical layout\n",
    "ui_box = widgets.VBox([\n",
    "    widgets.HTML(\"<h3>Adjust the rectangle</h3>\"),\n",
    "    width_slider,\n",
    "    height_slider,\n",
    "    color_dropdown,\n",
    "    refresh_button\n",
    "])\n",
    "\n",
    "# Observe changes in the sliders and dropdown\n",
    "width_slider.observe(update_plot, 'value')\n",
    "height_slider.observe(update_plot, 'value')\n",
    "color_dropdown.observe(update_plot, 'value')\n",
    "refresh_button.on_click(update_plot)\n",
    "\n",
    "# Display the widgets and draw the initial rectangle\n",
    "display(ui_box)\n",
    "draw_rectangle(width_slider.value, height_slider.value, color_dropdown.value)\n"
   ]
  },
  {
   "cell_type": "code",
   "execution_count": null,
   "metadata": {},
   "outputs": [],
   "source": []
  }
 ],
 "metadata": {
  "kernelspec": {
   "display_name": "Python 3 (ipykernel)",
   "language": "python",
   "name": "python3"
  },
  "language_info": {
   "codemirror_mode": {
    "name": "ipython",
    "version": 3
   },
   "file_extension": ".py",
   "mimetype": "text/x-python",
   "name": "python",
   "nbconvert_exporter": "python",
   "pygments_lexer": "ipython3",
   "version": "3.9.21"
  }
 },
 "nbformat": 4,
 "nbformat_minor": 2
}
